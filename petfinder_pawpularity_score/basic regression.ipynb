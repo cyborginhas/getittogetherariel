{
 "cells": [
  {
   "cell_type": "markdown",
   "source": [
    "## Just a regression"
   ],
   "metadata": {}
  },
  {
   "cell_type": "code",
   "execution_count": 9,
   "source": [
    "import pandas as pd\r\n",
    "from sklearn import linear_model"
   ],
   "outputs": [],
   "metadata": {}
  },
  {
   "cell_type": "code",
   "execution_count": 17,
   "source": [
    "data_dir = r'/kaggle/input/petfinder-pawpularity-score/'\r\n",
    "file_name = r'train.csv'\r\n",
    "\r\n",
    "df_train = pd.read_csv(data_dir + file_name)\r\n"
   ],
   "outputs": [],
   "metadata": {}
  },
  {
   "cell_type": "code",
   "execution_count": 14,
   "source": [
    "file_name = f'test.csv'\r\n",
    "df_test = pd.read_csv(data_dir + file_name)"
   ],
   "outputs": [],
   "metadata": {}
  },
  {
   "cell_type": "code",
   "execution_count": 10,
   "source": [
    "X = df_train[['Subject Focus', 'Eyes', 'Face', 'Near', 'Action', 'Accessory',\r\n",
    "       'Group', 'Collage', 'Human', 'Occlusion', 'Info', 'Blur']]\r\n",
    "y = df_train['Pawpularity']\r\n",
    "\r\n",
    "regr = linear_model.LinearRegression()\r\n",
    "regr.fit(X, y)"
   ],
   "outputs": [
    {
     "output_type": "execute_result",
     "data": {
      "text/plain": [
       "LinearRegression()"
      ]
     },
     "metadata": {},
     "execution_count": 10
    }
   ],
   "metadata": {}
  },
  {
   "cell_type": "code",
   "execution_count": 12,
   "source": [
    "print(regr.coef_)"
   ],
   "outputs": [
    {
     "output_type": "stream",
     "name": "stdout",
     "text": [
      "[-1.12584593 -2.48009618  2.45013923  0.46844535 -0.3088989   1.21101048\n",
      "  1.21999797  0.39700325  0.36362689 -0.06627373 -0.71553513 -3.75364608]\n"
     ]
    }
   ],
   "metadata": {}
  },
  {
   "cell_type": "code",
   "execution_count": 33,
   "source": [
    "pawpularity = regr.predict(df_test[['Subject Focus', 'Eyes', 'Face', 'Near', 'Action', 'Accessory',\r\n",
    "       'Group', 'Collage', 'Human', 'Occlusion', 'Info', 'Blur']])"
   ],
   "outputs": [],
   "metadata": {}
  },
  {
   "cell_type": "code",
   "execution_count": 36,
   "source": [
    "id = df_test.Id.values"
   ],
   "outputs": [],
   "metadata": {}
  },
  {
   "cell_type": "code",
   "execution_count": 40,
   "source": [
    "data = {'Id': id, 'Pawpularity': pawpularity}"
   ],
   "outputs": [],
   "metadata": {}
  },
  {
   "cell_type": "code",
   "execution_count": 41,
   "source": [
    "submission = pd.DataFrame(data,columns=['Id','Pawpularity'])\r\n",
    "\r\n",
    "submission.to_csv('submission.csv', index = False)"
   ],
   "outputs": [],
   "metadata": {}
  }
 ],
 "metadata": {
  "orig_nbformat": 4,
  "language_info": {
   "name": "python",
   "version": "3.8.11",
   "mimetype": "text/x-python",
   "codemirror_mode": {
    "name": "ipython",
    "version": 3
   },
   "pygments_lexer": "ipython3",
   "nbconvert_exporter": "python",
   "file_extension": ".py"
  },
  "kernelspec": {
   "name": "python3",
   "display_name": "Python 3.8.11 64-bit ('webdata': conda)"
  },
  "interpreter": {
   "hash": "1526a535de8c387a4a0a796f6bfc1e0b160d164c70ef018a73f1f8f4b33d3bab"
  }
 },
 "nbformat": 4,
 "nbformat_minor": 2
}